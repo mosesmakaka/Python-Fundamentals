{
 "cells": [
  {
   "cell_type": "code",
   "execution_count": 8,
   "metadata": {},
   "outputs": [
    {
     "name": "stdout",
     "output_type": "stream",
     "text": [
      "name\tMaths\tEnglish\tEspanol\tPhysics\tAverage\n",
      "\n",
      "|Moses\t98\t21\t11\t12\t35.5\t|\n"
     ]
    }
   ],
   "source": [
    "name = input(\"Enter student name here\")\n",
    "maths = input(\"What did you get in Maths?\")\n",
    "english = input(\"What did you get in English?\")\n",
    "spanish = input(\"What did you get in Spanish?\")\n",
    "physics = input(\"What did you get in Physics?\")\n",
    "total = int(maths) + int(english) + int(spanish) + int(physics)\n",
    "mean = total/4\n",
    "\n",
    "print(\"name\" + \"\\t\" + \"Maths\" + \"\\t\" + \"English\" + \"\\t\" + \"Espanol\" + \"\\t\" + \"Physics\" + \"\\t\" + \"Average\" + \"\\n\")\n",
    "print(\"|\" + name + \"\\t\" + str(maths) + \"\\t\" + str(english) + \"\\t\" + str(spanish) + \"\\t\" + str(physics) + \"\\t\" + str(mean) + \"\\t\" + \"|\")"
   ]
  },
  {
   "cell_type": "code",
   "execution_count": 9,
   "metadata": {},
   "outputs": [
    {
     "name": "stdout",
     "output_type": "stream",
     "text": [
      "You really need to pull up your socks soldier!\n"
     ]
    }
   ],
   "source": [
    "if mean < 70:\n",
    "    print(\"You really need to pull up your socks soldier!\")\n",
    "elif mean > 90:\n",
    "    print(\"Keep up the good work!\")\n",
    "elif mean == 100:\n",
    "    print(\"Excellent! You are untouchable!\")\n",
    "else:\n",
    "    print(\"You are on the right path, just add a little more gas and you'll be okay\")"
   ]
  }
 ],
 "metadata": {
  "kernelspec": {
   "display_name": "Python 3",
   "language": "python",
   "name": "python3"
  },
  "language_info": {
   "codemirror_mode": {
    "name": "ipython",
    "version": 3
   },
   "file_extension": ".py",
   "mimetype": "text/x-python",
   "name": "python",
   "nbconvert_exporter": "python",
   "pygments_lexer": "ipython3",
   "version": "3.11.1"
  },
  "orig_nbformat": 4,
  "vscode": {
   "interpreter": {
    "hash": "916dbcbb3f70747c44a77c7bcd40155683ae19c65e1c03b4aa3499c5328201f1"
   }
  }
 },
 "nbformat": 4,
 "nbformat_minor": 2
}
