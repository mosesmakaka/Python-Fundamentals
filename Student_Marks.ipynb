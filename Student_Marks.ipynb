{
 "cells": [
  {
   "cell_type": "code",
   "execution_count": null,
   "metadata": {},
   "outputs": [
    {
     "ename": "",
     "evalue": "",
     "output_type": "error",
     "traceback": [
      "\u001b[1;31mThe kernel failed to start as the Python Environment '/home/moses/Projects/Practice/practice/bin/python' is no longer available. Consider selecting another kernel or refreshing the list of Python Environments."
     ]
    }
   ],
   "source": [
    "name = input(\"Enter student name here\")\n",
    "maths = input(\"What did you get in Maths?\")\n",
    "english = input(\"What did you get in English?\")\n",
    "spanish = input(\"What did you get in Spanish?\")\n",
    "physics = input(\"What did you get in Physics?\")\n",
    "total = int(maths) + int(english) + int(spanish) + int(physics)\n",
    "mean = total/4\n",
    "\n",
    "print(\"name\" + \"\\t\" + \"Maths\" + \"\\t\" + \"English\" + \"\\t\" + \"Espanol\" + \"\\t\" + \"Physics\" + \"\\t\" + \"Average\")\n",
    "print(\"|\" + \"\\t\" + name + \"\\t\" + str(maths) + \"\\t\" + str(english) + \"\\t\" + str(spanish) + \"\\t\" + str(physics) + \"\\t\" + \"|\")"
   ]
  },
  {
   "cell_type": "code",
   "execution_count": null,
   "metadata": {},
   "outputs": [
    {
     "ename": "",
     "evalue": "",
     "output_type": "error",
     "traceback": [
      "\u001b[1;31mThe kernel failed to start as the Python Environment '/home/moses/Projects/Practice/practice/bin/python' is no longer available. Consider selecting another kernel or refreshing the list of Python Environments."
     ]
    }
   ],
   "source": [
    "if mean < 70:\n",
    "    print(\"You really need to pull up your socks soldier!\")\n",
    "elif mean > 90:\n",
    "    print(\"Keep up the good work!\")\n",
    "elif mean == 100:\n",
    "    print(\"Excellent! You are untouchable!\")\n",
    "else:\n",
    "    print(\"You are on the right path, just add a little more gas and you'll be okay\")"
   ]
  }
 ],
 "metadata": {
  "kernelspec": {
   "display_name": "practice",
   "language": "python",
   "name": "python3"
  },
  "language_info": {
   "name": "python",
   "version": "3.11.1"
  },
  "orig_nbformat": 4,
  "vscode": {
   "interpreter": {
    "hash": "61da5164cb4b3077f4ab9c4e7551fcccb69367655a9a58637637624d80eda5ad"
   }
  }
 },
 "nbformat": 4,
 "nbformat_minor": 2
}
